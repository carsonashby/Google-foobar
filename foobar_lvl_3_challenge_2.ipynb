{
  "nbformat": 4,
  "nbformat_minor": 0,
  "metadata": {
    "colab": {
      "name": "foobar lvl 3 challenge 2.ipynb",
      "provenance": [],
      "authorship_tag": "ABX9TyPFyyfFopIVEmSfLSZWpk4i",
      "include_colab_link": true
    },
    "kernelspec": {
      "name": "python3",
      "display_name": "Python 3"
    },
    "language_info": {
      "name": "python"
    }
  },
  "cells": [
    {
      "cell_type": "markdown",
      "metadata": {
        "id": "view-in-github",
        "colab_type": "text"
      },
      "source": [
        "<a href=\"https://colab.research.google.com/github/carsonashby/Google-foobar/blob/main/foobar_lvl_3_challenge_2.ipynb\" target=\"_parent\"><img src=\"https://colab.research.google.com/assets/colab-badge.svg\" alt=\"Open In Colab\"/></a>"
      ]
    },
    {
      "cell_type": "code",
      "metadata": {
        "colab": {
          "base_uri": "https://localhost:8080/"
        },
        "id": "8hZpYHPsIWfk",
        "outputId": "011f75aa-8410-448f-8454-ad6e25aed718"
      },
      "source": [
        "#2d array from 2 by 2 to 20 by 20, each node is either open or closed, return the shortest path, go from 0,0 to the other corner\n",
        "#can turn a single 1 into a 0\n",
        "#return length of the shortest path\n",
        "#Thinking of a couple ways to solve this, one that generates possible solutions and check to see if they work within the current maze the complexity of this gets really high tho\n",
        "#Work backwards, treating any 1 that has atleast 2 0s next to it as a 0\n",
        "#graph?\n",
        "#setup a node that can have 2-4 connecters\n",
        "\n",
        "0 0 1 1\n",
        "1 0 1 1\n",
        "1 0 0 1\n",
        "0 1 0 0\n",
        "\n",
        "\n",
        "#we can get through a maze now, just have to figure out how to program the wall skip\n",
        "#first thoughts are notating wall skips differently but presenting them as paths, and then if the pathfinder uses two throw it out"
      ],
      "execution_count": null,
      "outputs": [
        {
          "output_type": "execute_result",
          "data": {
            "text/plain": [
              "0"
            ]
          },
          "metadata": {
            "tags": []
          },
          "execution_count": 1
        }
      ]
    },
    {
      "cell_type": "code",
      "metadata": {
        "id": "7SFDxJO82vvR"
      },
      "source": [
        "def make_step(step_number, matrix, map):\n",
        "    for i in range(len(matrix)):\n",
        "        for j in range(len(matrix[i])):\n",
        "            if matrix[i][j] == step_number:\n",
        "\n",
        "                if i>0 and matrix[i-1][j] == 0 and map[i-1][j] == 0:\n",
        "                   matrix[i-1][j] = step_number + 1\n",
        "\n",
        "                if j>0 and matrix[i][j-1] == 0 and map[i][j-1] == 0:\n",
        "                  matrix[i][j-1] = step_number + 1\n",
        "\n",
        "                if i<len(matrix)-1 and matrix[i+1][j] == 0 and map[i+1][j] == 0:\n",
        "                    matrix[i+1][j] = step_number + 1\n",
        "\n",
        "                if j<len(matrix[i])-1 and matrix[i][j+1] == 0 and map[i][j+1] == 0:\n",
        "                    matrix[i][j+1] = step_number + 1\n",
        "                    "
      ],
      "execution_count": null,
      "outputs": []
    },
    {
      "cell_type": "code",
      "metadata": {
        "id": "YnKmlbF01t5I"
      },
      "source": [
        "def solution(map):\n",
        "    \n",
        "    matrix = []\n",
        "    for i in range(len(map)):\n",
        "        matrix.append([])\n",
        "        for j in range(len(map[i])):\n",
        "            matrix[-1].append(0)\n",
        "            \n",
        "    matrix[0][0] = 1\n",
        "    counter = 0\n",
        "    while matrix[-1][-1] == 0:\n",
        "        counter += 1\n",
        "        make_step(counter, matrix, map)\n",
        "        \n",
        "    return matrix[-1][-1]"
      ],
      "execution_count": null,
      "outputs": []
    },
    {
      "cell_type": "code",
      "metadata": {
        "id": "iyLb-Tmd80od"
      },
      "source": [
        "\n",
        "def make_step(step_number, matrix, map):\n",
        "    for i in range(len(matrix)):\n",
        "        for j in range(len(matrix[i])):\n",
        "            if matrix[i][j] == step_number:\n",
        "\n",
        "                if i>0 and matrix[i-1][j] == 0 and map[i-1][j] == 0:\n",
        "                   matrix[i-1][j] = step_number + 1\n",
        "\n",
        "                if j>0 and matrix[i][j-1] == 0 and map[i][j-1] == 0:\n",
        "                  matrix[i][j-1] = step_number + 1\n",
        "\n",
        "                if i<len(matrix)-1 and matrix[i+1][j] == 0 and map[i+1][j] == 0:\n",
        "                    matrix[i+1][j] = step_number + 1\n",
        "\n",
        "                if j<len(matrix[i])-1 and matrix[i][j+1] == 0 and map[i][j+1] == 0:\n",
        "                    matrix[i][j+1] = step_number + 1\n",
        "                    \n",
        "                    \n",
        "def matrixAndCount(map):\n",
        "     \n",
        "    matrix = []\n",
        "    for i in range(len(map)):\n",
        "        matrix.append([])\n",
        "        for j in range(len(map[i])):\n",
        "            matrix[-1].append(0)\n",
        "            \n",
        "    matrix[0][0] = 1\n",
        "    counter = 0\n",
        "    while matrix[-1][-1] == 0:\n",
        "        counter += 1\n",
        "        make_step(counter, matrix, map)\n",
        "        if counter >= len(map) * len(map[0]):\n",
        "            matrix[-1][-1] = 1000000000\n",
        "            break\n",
        "        \n",
        "    return matrix[-1][-1]\n",
        "    \n",
        "def solution(map):\n",
        "\n",
        "    solution_list = []\n",
        "    for i, section in enumerate(map):\n",
        "        for j,item in enumerate(section):\n",
        "            newmap = []\n",
        "            if item == 1:\n",
        "                true_count = 0\n",
        "                try:\n",
        "                    if map[i-1][j] == 0:\n",
        "                        true_count += 1\n",
        "                except:\n",
        "                    x = 0\n",
        "                try:\n",
        "                    if map[i][j-1] == 0:\n",
        "                        true_count += 1\n",
        "                except:\n",
        "                    x = 0\n",
        "                try:\n",
        "                    if map[i+1][j] == 0:\n",
        "                        true_count += 1\n",
        "                except:\n",
        "                    x = 0\n",
        "                try:\n",
        "                    if map[i][j+1] == 0:\n",
        "                        true_count += 1\n",
        "                except:\n",
        "                    x = 0\n",
        "\n",
        "                if true_count > 1:\n",
        "                    \n",
        "                    newmap = [x[:] for x in map]\n",
        "                    newmap[i][j] = 0\n",
        "                    \n",
        "                    solution_list.append(matrixAndCount(newmap))\n",
        "    return min(solution_list)\n",
        "                   \n",
        "               "
      ],
      "execution_count": null,
      "outputs": []
    },
    {
      "cell_type": "code",
      "metadata": {
        "colab": {
          "base_uri": "https://localhost:8080/"
        },
        "id": "u5p4ZaV8rFFh",
        "outputId": "51f16bfb-4dd7-4d32-f4d3-0ba29c7d019f"
      },
      "source": [
        "solution([[0, 1, 1, 1, 1, 1], [0, 1, 1, 1, 1, 1], [0, 1, 1, 1, 1, 1], [0, 1, 1, 1, 1, 1], [0, 1, 1, 1, 1, 1], [1, 0, 0, 0, 0, 0]])\n",
        "\n",
        "#solution([[0,0,0,0,0,0,0,0,0,0,0,0,1,0,0,0,0,0,0,0,0],[0,0,0,0,0,0,0,0,0,0,0,0,0,0,0,0,1,0,0,0,0],[0,0,0,0,0,0,0,0,0,0,0,0,0,0,0,0,0,0,0,0,0],[0,0,0,0,0,0,0,0,0,0,0,0,0,0,0,0,0,0,0,0,0],[0,0,0,0,0,0,0,0,0,0,0,0,0,0,0,0,0,0,0,0,0],[0,0,0,0,0,0,0,0,0,0,0,0,0,0,0,0,0,0,0,0,0],[0,0,0,0,0,0,0,0,0,0,0,0,0,0,0,0,0,0,0,0,0],[0,0,0,0,0,0,0,0,0,0,0,0,0,0,0,0,0,0,0,0,0],[0,0,0,0,0,0,0,0,0,0,0,0,0,0,0,0,0,0,0,0,0],[0,0,0,0,0,0,0,0,0,0,0,0,0,0,0,0,0,0,0,0,0],[0,0,0,0,0,0,0,0,0,0,0,0,0,0,0,0,0,0,0,0,0],[0,0,0,0,0,0,0,0,0,0,0,0,0,0,0,0,0,0,0,0,0],[0,0,0,0,0,0,0,0,0,0,0,0,0,0,0,0,0,0,0,0,0],[0,0,0,0,0,0,0,0,0,0,0,0,0,0,0,0,0,0,0,0,0],[0,0,0,0,0,0,0,0,0,0,0,0,0,0,0,0,0,0,0,0,0],[0,0,0,0,0,0,0,0,0,0,0,0,0,0,0,0,0,0,0,0,0],[0,0,0,0,0,0,0,0,0,0,0,0,0,0,0,0,0,0,0,0,0],[0,0,0,0,0,0,0,0,0,0,0,0,0,0,0,0,0,0,0,0,0],[0,0,0,0,0,0,0,0,0,0,0,0,0,0,0,0,0,0,0,0,0],[0,0,0,0,0,0,0,0,0,0,0,0,0,0,0,0,0,0,0,0,0]])"
      ],
      "execution_count": null,
      "outputs": [
        {
          "output_type": "stream",
          "text": [
            "[[0, 1, 1, 1, 1, 1], [0, 1, 1, 1, 1, 1], [0, 1, 1, 1, 1, 1], [0, 1, 1, 1, 1, 1], [0, 1, 1, 1, 1, 1], [1, 0, 0, 0, 0, 0]]\n",
            "[[0, 1, 1, 1, 1, 1], [0, 1, 1, 1, 1, 1], [0, 1, 1, 1, 1, 1], [0, 1, 1, 1, 1, 1], [0, 1, 1, 1, 1, 1], [1, 0, 0, 0, 0, 0]]\n",
            "[[0, 1, 1, 1, 1, 1], [0, 1, 1, 1, 1, 1], [0, 1, 1, 1, 1, 1], [0, 1, 1, 1, 1, 1], [0, 1, 1, 1, 1, 1], [1, 0, 0, 0, 0, 0]]\n"
          ],
          "name": "stdout"
        },
        {
          "output_type": "execute_result",
          "data": {
            "text/plain": [
              "11"
            ]
          },
          "metadata": {
            "tags": []
          },
          "execution_count": 103
        }
      ]
    },
    {
      "cell_type": "code",
      "metadata": {
        "id": "EMnMQamseURu"
      },
      "source": [
        "#refactored to not use this solution\n",
        "def makeDict(map):\n",
        "    graph_dict = {}\n",
        "    for x, item in enumerate(map):\n",
        "        for y, character in enumerate(item):\n",
        "            head = str(x) + str(y)\n",
        "\n",
        "            if map[x][y] == 0:\n",
        "                if x > 0:\n",
        "                    if map[x-1][y] == 0:\n",
        "                        #connect left\n",
        "                        graph_dict[head] = [str(x - 1) + str(y)]\n",
        "\n",
        "\n",
        "                if x < len(map) - 1:\n",
        "                    if map[x + 1][y] == 0:\n",
        "                        #connect right\n",
        "                        if head in graph_dict:\n",
        "                            graph_dict[head].append(str(x + 1) + str(y))\n",
        "\n",
        "                        else:\n",
        "                            graph_dict[head] = [str(x + 1) + str(y)]\n",
        "\n",
        "                if y > 0:\n",
        "                    if map[x][y - 1] == 0:\n",
        "                        #connect up\n",
        "                        if head in graph_dict:\n",
        "                            graph_dict[head].append(str(x) + str(y - 1))\n",
        "\n",
        "                        else:\n",
        "                            graph_dict[head] = [str(x) + str(y - 1)]\n",
        "                \n",
        "                if y < len(map[0]) - 1:\n",
        "                    #connect down\n",
        "                    if map[x][y + 1] == 0:\n",
        "                        if head in graph_dict:\n",
        "                            graph_dict[head].append(str(x) + str(y + 1))\n",
        "\n",
        "                        else:\n",
        "                            graph_dict[head] = [str(x) + str(y + 1)]\n",
        "\n",
        "    return graph_dict"
      ],
      "execution_count": null,
      "outputs": []
    },
    {
      "cell_type": "code",
      "metadata": {
        "id": "_0mahX3ykfea"
      },
      "source": [
        "def findPaths(graph, start, end, path=[]):\n",
        "    path = path  + [start]\n",
        "\n",
        "    if start == end:\n",
        "        return path\n",
        "\n",
        "    if start not in graph:\n",
        "        return None\n",
        "\n",
        "    shortest = None\n",
        "\n",
        "    for node in graph[start]:\n",
        "        if node not in path:\n",
        "            newpath = findPaths(graph, node, end, path)\n",
        "\n",
        "            if newpath is not None:\n",
        "                if not shortest or len(newpath) < len(shortest):\n",
        "                    shortest = newpath\n",
        "                    \n",
        "    return shortest\n"
      ],
      "execution_count": null,
      "outputs": []
    },
    {
      "cell_type": "code",
      "metadata": {
        "colab": {
          "base_uri": "https://localhost:8080/"
        },
        "id": "Y5FypSCpjVVm",
        "outputId": "591e192c-9f2a-46f8-f768-7278986795ce"
      },
      "source": [
        "\n",
        "def solution(map):\n",
        "    mazedict = makeDict(map)\n",
        "    \n",
        "    \n",
        "    return len(findPaths(graph = mazedict, start = '00', end = str(len(map) - 1) + str(len(map[0]) - 1)))\n",
        "\n",
        "\n",
        "maze = [[0, 1, 1, 0], [0, 0, 0, 1], [1, 1, 0, 0], [1, 1, 1, 0]]\n",
        "maze2 = [[0, 0, 0, 0, 0, 0], [1, 1, 1, 1, 1, 0], [0, 0, 0, 0, 0, 0], [0, 1, 1, 1, 1, 1], [0, 1, 1, 1, 1, 1], [0, 0, 0, 0, 0, 0]]\n",
        "\n",
        "solution(maze2)\n",
        "\n"
      ],
      "execution_count": null,
      "outputs": [
        {
          "output_type": "execute_result",
          "data": {
            "text/plain": [
              "21"
            ]
          },
          "metadata": {
            "tags": []
          },
          "execution_count": 4
        }
      ]
    },
    {
      "cell_type": "code",
      "metadata": {
        "id": "VF1M1UXkdiVR"
      },
      "source": [
        "class graphNode():\n",
        "    def __init__(self, value, x_pos, y_pos):\n",
        "        self.value = value\n",
        "        self.x_pos = x_pos\n",
        "        self.y_pos = y_pos\n",
        "        self.up = None\n",
        "        self.down = None\n",
        "        self.left = None\n",
        "        self.right = None\n"
      ],
      "execution_count": null,
      "outputs": []
    },
    {
      "cell_type": "code",
      "metadata": {
        "id": "ekyTntOtJPmz"
      },
      "source": [
        "#doesnt work due to recursion depth\n",
        "\n",
        "\n",
        "def makeMap(map, root):\n",
        "\n",
        "    if root == None:\n",
        "        return\n",
        "\n",
        "    if root.x_pos > 0:\n",
        "        root.left = graphNode(map[root.x_pos - 1][root.y_pos], root.x_pos - 1, root.y_pos)\n",
        "        makeMap(map, root.left)\n",
        "\n",
        "    if root.x_pos < len(map):\n",
        "        root.right = graphNode(map[root.x_pos + 1][root.y_pos], root.x_pos + 1, root.y_pos)\n",
        "        makeMap(map, root.right)\n",
        "\n",
        "    if root.y_pos > 0:\n",
        "        root.up = graphNode(map[root.x_pos][root.y_pos + 1], root.x_pos, root.y_pos + 1)\n",
        "        makeMap(map, root.up)\n",
        "    \n",
        "    if root.y_pos < len(map[0]):\n",
        "        root.down = graphNode(map[root.x_pos][root.y_pos - 1], root.x_pos, root.y_pos - 1)\n",
        "        makeMap(map, root.down)\n",
        "\n",
        "    \n",
        "\n",
        "def solution(map):\n",
        "    root = graphNode(0, [0,0])\n",
        "    for x, item in enumerate(map):\n",
        "        for y, character in enumerate(item):\n",
        "            print(character, i, x)\n",
        "           \n",
        "\n",
        "\n",
        "    # 0,0 > 1,0\n",
        "    # V\n",
        "    # 0,1"
      ],
      "execution_count": null,
      "outputs": []
    },
    {
      "cell_type": "code",
      "metadata": {
        "colab": {
          "base_uri": "https://localhost:8080/",
          "height": 340
        },
        "id": "SrgVi5LvPuQg",
        "outputId": "48a213d6-4f97-4071-ee17-3e9229ee1061"
      },
      "source": [
        "makeMap(map = [[0, 1, 1, 0], [0, 0, 0, 1], [1, 1, 0, 0], [1, 1, 1, 0]], root = graphNode(0, 0, 0))"
      ],
      "execution_count": null,
      "outputs": [
        {
          "output_type": "error",
          "ename": "RecursionError",
          "evalue": "ignored",
          "traceback": [
            "\u001b[0;31m---------------------------------------------------------------------------\u001b[0m",
            "\u001b[0;31mRecursionError\u001b[0m                            Traceback (most recent call last)",
            "\u001b[0;32m<ipython-input-57-7053870ab91e>\u001b[0m in \u001b[0;36m<module>\u001b[0;34m()\u001b[0m\n\u001b[0;32m----> 1\u001b[0;31m \u001b[0mmakeMap\u001b[0m\u001b[0;34m(\u001b[0m\u001b[0mmap\u001b[0m \u001b[0;34m=\u001b[0m \u001b[0;34m[\u001b[0m\u001b[0;34m[\u001b[0m\u001b[0;36m0\u001b[0m\u001b[0;34m,\u001b[0m \u001b[0;36m1\u001b[0m\u001b[0;34m,\u001b[0m \u001b[0;36m1\u001b[0m\u001b[0;34m,\u001b[0m \u001b[0;36m0\u001b[0m\u001b[0;34m]\u001b[0m\u001b[0;34m,\u001b[0m \u001b[0;34m[\u001b[0m\u001b[0;36m0\u001b[0m\u001b[0;34m,\u001b[0m \u001b[0;36m0\u001b[0m\u001b[0;34m,\u001b[0m \u001b[0;36m0\u001b[0m\u001b[0;34m,\u001b[0m \u001b[0;36m1\u001b[0m\u001b[0;34m]\u001b[0m\u001b[0;34m,\u001b[0m \u001b[0;34m[\u001b[0m\u001b[0;36m1\u001b[0m\u001b[0;34m,\u001b[0m \u001b[0;36m1\u001b[0m\u001b[0;34m,\u001b[0m \u001b[0;36m0\u001b[0m\u001b[0;34m,\u001b[0m \u001b[0;36m0\u001b[0m\u001b[0;34m]\u001b[0m\u001b[0;34m,\u001b[0m \u001b[0;34m[\u001b[0m\u001b[0;36m1\u001b[0m\u001b[0;34m,\u001b[0m \u001b[0;36m1\u001b[0m\u001b[0;34m,\u001b[0m \u001b[0;36m1\u001b[0m\u001b[0;34m,\u001b[0m \u001b[0;36m0\u001b[0m\u001b[0;34m]\u001b[0m\u001b[0;34m]\u001b[0m\u001b[0;34m,\u001b[0m \u001b[0mroot\u001b[0m \u001b[0;34m=\u001b[0m \u001b[0mgraphNode\u001b[0m\u001b[0;34m(\u001b[0m\u001b[0;36m0\u001b[0m\u001b[0;34m,\u001b[0m \u001b[0;36m0\u001b[0m\u001b[0;34m,\u001b[0m \u001b[0;36m0\u001b[0m\u001b[0;34m)\u001b[0m\u001b[0;34m)\u001b[0m\u001b[0;34m\u001b[0m\u001b[0;34m\u001b[0m\u001b[0m\n\u001b[0m",
            "\u001b[0;32m<ipython-input-56-dcd820fedb38>\u001b[0m in \u001b[0;36mmakeMap\u001b[0;34m(map, root)\u001b[0m\n\u001b[1;32m     12\u001b[0m     \u001b[0;32mif\u001b[0m \u001b[0mroot\u001b[0m\u001b[0;34m.\u001b[0m\u001b[0mx_pos\u001b[0m \u001b[0;34m<\u001b[0m \u001b[0mlen\u001b[0m\u001b[0;34m(\u001b[0m\u001b[0mmap\u001b[0m\u001b[0;34m)\u001b[0m\u001b[0;34m:\u001b[0m\u001b[0;34m\u001b[0m\u001b[0;34m\u001b[0m\u001b[0m\n\u001b[1;32m     13\u001b[0m         \u001b[0mroot\u001b[0m\u001b[0;34m.\u001b[0m\u001b[0mright\u001b[0m \u001b[0;34m=\u001b[0m \u001b[0mgraphNode\u001b[0m\u001b[0;34m(\u001b[0m\u001b[0mmap\u001b[0m\u001b[0;34m[\u001b[0m\u001b[0mroot\u001b[0m\u001b[0;34m.\u001b[0m\u001b[0mx_pos\u001b[0m \u001b[0;34m+\u001b[0m \u001b[0;36m1\u001b[0m\u001b[0;34m]\u001b[0m\u001b[0;34m[\u001b[0m\u001b[0mroot\u001b[0m\u001b[0;34m.\u001b[0m\u001b[0my_pos\u001b[0m\u001b[0;34m]\u001b[0m\u001b[0;34m,\u001b[0m \u001b[0mroot\u001b[0m\u001b[0;34m.\u001b[0m\u001b[0mx_pos\u001b[0m \u001b[0;34m+\u001b[0m \u001b[0;36m1\u001b[0m\u001b[0;34m,\u001b[0m \u001b[0mroot\u001b[0m\u001b[0;34m.\u001b[0m\u001b[0my_pos\u001b[0m\u001b[0;34m)\u001b[0m\u001b[0;34m\u001b[0m\u001b[0;34m\u001b[0m\u001b[0m\n\u001b[0;32m---> 14\u001b[0;31m         \u001b[0mmakeMap\u001b[0m\u001b[0;34m(\u001b[0m\u001b[0mmap\u001b[0m\u001b[0;34m,\u001b[0m \u001b[0mroot\u001b[0m\u001b[0;34m.\u001b[0m\u001b[0mright\u001b[0m\u001b[0;34m)\u001b[0m\u001b[0;34m\u001b[0m\u001b[0;34m\u001b[0m\u001b[0m\n\u001b[0m\u001b[1;32m     15\u001b[0m \u001b[0;34m\u001b[0m\u001b[0m\n\u001b[1;32m     16\u001b[0m     \u001b[0;32mif\u001b[0m \u001b[0mroot\u001b[0m\u001b[0;34m.\u001b[0m\u001b[0my_pos\u001b[0m \u001b[0;34m>\u001b[0m \u001b[0;36m0\u001b[0m\u001b[0;34m:\u001b[0m\u001b[0;34m\u001b[0m\u001b[0;34m\u001b[0m\u001b[0m\n",
            "\u001b[0;32m<ipython-input-56-dcd820fedb38>\u001b[0m in \u001b[0;36mmakeMap\u001b[0;34m(map, root)\u001b[0m\n\u001b[1;32m      8\u001b[0m     \u001b[0;32mif\u001b[0m \u001b[0mroot\u001b[0m\u001b[0;34m.\u001b[0m\u001b[0mx_pos\u001b[0m \u001b[0;34m>\u001b[0m \u001b[0;36m0\u001b[0m\u001b[0;34m:\u001b[0m\u001b[0;34m\u001b[0m\u001b[0;34m\u001b[0m\u001b[0m\n\u001b[1;32m      9\u001b[0m         \u001b[0mroot\u001b[0m\u001b[0;34m.\u001b[0m\u001b[0mleft\u001b[0m \u001b[0;34m=\u001b[0m \u001b[0mgraphNode\u001b[0m\u001b[0;34m(\u001b[0m\u001b[0mmap\u001b[0m\u001b[0;34m[\u001b[0m\u001b[0mroot\u001b[0m\u001b[0;34m.\u001b[0m\u001b[0mx_pos\u001b[0m \u001b[0;34m-\u001b[0m \u001b[0;36m1\u001b[0m\u001b[0;34m]\u001b[0m\u001b[0;34m[\u001b[0m\u001b[0mroot\u001b[0m\u001b[0;34m.\u001b[0m\u001b[0my_pos\u001b[0m\u001b[0;34m]\u001b[0m\u001b[0;34m,\u001b[0m \u001b[0mroot\u001b[0m\u001b[0;34m.\u001b[0m\u001b[0mx_pos\u001b[0m \u001b[0;34m-\u001b[0m \u001b[0;36m1\u001b[0m\u001b[0;34m,\u001b[0m \u001b[0mroot\u001b[0m\u001b[0;34m.\u001b[0m\u001b[0my_pos\u001b[0m\u001b[0;34m)\u001b[0m\u001b[0;34m\u001b[0m\u001b[0;34m\u001b[0m\u001b[0m\n\u001b[0;32m---> 10\u001b[0;31m         \u001b[0mmakeMap\u001b[0m\u001b[0;34m(\u001b[0m\u001b[0mmap\u001b[0m\u001b[0;34m,\u001b[0m \u001b[0mroot\u001b[0m\u001b[0;34m.\u001b[0m\u001b[0mleft\u001b[0m\u001b[0;34m)\u001b[0m\u001b[0;34m\u001b[0m\u001b[0;34m\u001b[0m\u001b[0m\n\u001b[0m\u001b[1;32m     11\u001b[0m \u001b[0;34m\u001b[0m\u001b[0m\n\u001b[1;32m     12\u001b[0m     \u001b[0;32mif\u001b[0m \u001b[0mroot\u001b[0m\u001b[0;34m.\u001b[0m\u001b[0mx_pos\u001b[0m \u001b[0;34m<\u001b[0m \u001b[0mlen\u001b[0m\u001b[0;34m(\u001b[0m\u001b[0mmap\u001b[0m\u001b[0;34m)\u001b[0m\u001b[0;34m:\u001b[0m\u001b[0;34m\u001b[0m\u001b[0;34m\u001b[0m\u001b[0m\n",
            "... last 2 frames repeated, from the frame below ...\n",
            "\u001b[0;32m<ipython-input-56-dcd820fedb38>\u001b[0m in \u001b[0;36mmakeMap\u001b[0;34m(map, root)\u001b[0m\n\u001b[1;32m     12\u001b[0m     \u001b[0;32mif\u001b[0m \u001b[0mroot\u001b[0m\u001b[0;34m.\u001b[0m\u001b[0mx_pos\u001b[0m \u001b[0;34m<\u001b[0m \u001b[0mlen\u001b[0m\u001b[0;34m(\u001b[0m\u001b[0mmap\u001b[0m\u001b[0;34m)\u001b[0m\u001b[0;34m:\u001b[0m\u001b[0;34m\u001b[0m\u001b[0;34m\u001b[0m\u001b[0m\n\u001b[1;32m     13\u001b[0m         \u001b[0mroot\u001b[0m\u001b[0;34m.\u001b[0m\u001b[0mright\u001b[0m \u001b[0;34m=\u001b[0m \u001b[0mgraphNode\u001b[0m\u001b[0;34m(\u001b[0m\u001b[0mmap\u001b[0m\u001b[0;34m[\u001b[0m\u001b[0mroot\u001b[0m\u001b[0;34m.\u001b[0m\u001b[0mx_pos\u001b[0m \u001b[0;34m+\u001b[0m \u001b[0;36m1\u001b[0m\u001b[0;34m]\u001b[0m\u001b[0;34m[\u001b[0m\u001b[0mroot\u001b[0m\u001b[0;34m.\u001b[0m\u001b[0my_pos\u001b[0m\u001b[0;34m]\u001b[0m\u001b[0;34m,\u001b[0m \u001b[0mroot\u001b[0m\u001b[0;34m.\u001b[0m\u001b[0mx_pos\u001b[0m \u001b[0;34m+\u001b[0m \u001b[0;36m1\u001b[0m\u001b[0;34m,\u001b[0m \u001b[0mroot\u001b[0m\u001b[0;34m.\u001b[0m\u001b[0my_pos\u001b[0m\u001b[0;34m)\u001b[0m\u001b[0;34m\u001b[0m\u001b[0;34m\u001b[0m\u001b[0m\n\u001b[0;32m---> 14\u001b[0;31m         \u001b[0mmakeMap\u001b[0m\u001b[0;34m(\u001b[0m\u001b[0mmap\u001b[0m\u001b[0;34m,\u001b[0m \u001b[0mroot\u001b[0m\u001b[0;34m.\u001b[0m\u001b[0mright\u001b[0m\u001b[0;34m)\u001b[0m\u001b[0;34m\u001b[0m\u001b[0;34m\u001b[0m\u001b[0m\n\u001b[0m\u001b[1;32m     15\u001b[0m \u001b[0;34m\u001b[0m\u001b[0m\n\u001b[1;32m     16\u001b[0m     \u001b[0;32mif\u001b[0m \u001b[0mroot\u001b[0m\u001b[0;34m.\u001b[0m\u001b[0my_pos\u001b[0m \u001b[0;34m>\u001b[0m \u001b[0;36m0\u001b[0m\u001b[0;34m:\u001b[0m\u001b[0;34m\u001b[0m\u001b[0;34m\u001b[0m\u001b[0m\n",
            "\u001b[0;31mRecursionError\u001b[0m: maximum recursion depth exceeded"
          ]
        }
      ]
    }
  ]
}