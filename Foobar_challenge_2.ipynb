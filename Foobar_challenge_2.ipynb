{
  "nbformat": 4,
  "nbformat_minor": 0,
  "metadata": {
    "colab": {
      "name": "Foobar challenge 2.ipynb",
      "provenance": [],
      "collapsed_sections": [],
      "authorship_tag": "ABX9TyPWx7nJ9XawnlsBZwWoat9z",
      "include_colab_link": true
    },
    "kernelspec": {
      "name": "python3",
      "display_name": "Python 3"
    }
  },
  "cells": [
    {
      "cell_type": "markdown",
      "metadata": {
        "id": "view-in-github",
        "colab_type": "text"
      },
      "source": [
        "<a href=\"https://colab.research.google.com/github/carsonashby/Google-foobar/blob/main/Foobar_challenge_2.ipynb\" target=\"_parent\"><img src=\"https://colab.research.google.com/assets/colab-badge.svg\" alt=\"Open In Colab\"/></a>"
      ]
    },
    {
      "cell_type": "code",
      "metadata": {
        "id": "0eKvn3wgEAyR",
        "colab": {
          "base_uri": "https://localhost:8080/"
        },
        "outputId": "b50f72f6-f611-4317-e83e-b7a01f91d9ab"
      },
      "source": [
        "def solution(l, t):\n",
        "    #part of this sourced from https://stackoverflow.com/questions/10106901/elegant-find-sub-list-in-list\n",
        "    def subfinder(mylist, pattern):\n",
        "        matches = []\n",
        "        for i in range(len(mylist)):\n",
        "            if mylist[i:i+len(pattern)] == pattern:\n",
        "                return (i, i + len(pattern) - 1)\n",
        "\n",
        "\n",
        "\n",
        "    sublist = [[]]\n",
        "    for i in range(len(l) + 1):\n",
        "        for j in range(i+1, len(l) + 1):\n",
        "            sli = l[i:j]\n",
        "            sublist.append(sli)\n",
        "\n",
        "    for i in range(len(sublist)):\n",
        "        if sum(sublist[i]) == t:\n",
        "            return subfinder(l, sublist[i])\n",
        "\n",
        "    return [-1,-1]\n",
        "\n",
        "print(solution([4], 4))"
      ],
      "execution_count": null,
      "outputs": [
        {
          "output_type": "stream",
          "text": [
            "(0, 0)\n"
          ],
          "name": "stdout"
        }
      ]
    }
  ]
}