{
  "nbformat": 4,
  "nbformat_minor": 0,
  "metadata": {
    "colab": {
      "name": "Foobar challenge 1.ipynb",
      "provenance": [],
      "collapsed_sections": [],
      "authorship_tag": "ABX9TyNFhYYTE5Xwz/NdSCjwah8o",
      "include_colab_link": true
    },
    "kernelspec": {
      "name": "python3",
      "display_name": "Python 3"
    }
  },
  "cells": [
    {
      "cell_type": "markdown",
      "metadata": {
        "id": "view-in-github",
        "colab_type": "text"
      },
      "source": [
        "<a href=\"https://colab.research.google.com/github/carsonashby/Google-foobar/blob/main/Foobar_challenge_1.ipynb\" target=\"_parent\"><img src=\"https://colab.research.google.com/assets/colab-badge.svg\" alt=\"Open In Colab\"/></a>"
      ]
    },
    {
      "cell_type": "code",
      "metadata": {
        "colab": {
          "base_uri": "https://localhost:8080/"
        },
        "id": "I8j6iVSn79uz",
        "outputId": "6fcc6f77-1256-4268-f350-69c5bdb0b3b1"
      },
      "source": [
        "import math\n",
        "def getSquare(number):\n",
        "    #Get the square root and cut off the extra bit\n",
        "    number = math.sqrt(number)\n",
        "    number = int(number)\n",
        "    number = number**2\n",
        "    return number\n",
        " \n",
        "\n",
        "\n",
        "\n",
        "def solution(area):\n",
        "    #initialize a solution list\n",
        "    solutionList = []\n",
        "    \n",
        "    while area > 0:\n",
        "        #Get the truncated square root\n",
        "        tempArea = getSquare(area)\n",
        "        #add it to the solution list\n",
        "        solutionList.append(tempArea)\n",
        "        #Remove the truncated square root from the original number\n",
        "        area -= tempArea\n",
        "    return solutionList\n",
        "\n",
        "\n",
        "solution()\n"
      ],
      "execution_count": null,
      "outputs": [
        {
          "output_type": "stream",
          "text": [
            "9998244\n",
            "1681\n",
            "64\n",
            "9\n",
            "1\n",
            "1\n"
          ],
          "name": "stdout"
        },
        {
          "output_type": "execute_result",
          "data": {
            "text/plain": [
              "[9998244, 1681, 64, 9, 1, 1]"
            ]
          },
          "metadata": {
            "tags": []
          },
          "execution_count": 2
        }
      ]
    }
  ]
}