{
  "nbformat": 4,
  "nbformat_minor": 0,
  "metadata": {
    "colab": {
      "name": "Foobar challenge lvl 3 challenge 1.ipynb",
      "provenance": [],
      "authorship_tag": "ABX9TyO/KdvIUwNklY/JkV/AmdyX",
      "include_colab_link": true
    },
    "kernelspec": {
      "name": "python3",
      "display_name": "Python 3"
    },
    "language_info": {
      "name": "python"
    }
  },
  "cells": [
    {
      "cell_type": "markdown",
      "metadata": {
        "id": "view-in-github",
        "colab_type": "text"
      },
      "source": [
        "<a href=\"https://colab.research.google.com/github/carsonashby/Google-foobar/blob/main/Foobar_challenge_lvl_3_challenge_1.ipynb\" target=\"_parent\"><img src=\"https://colab.research.google.com/assets/colab-badge.svg\" alt=\"Open In Colab\"/></a>"
      ]
    },
    {
      "cell_type": "code",
      "metadata": {
        "id": "3roooyxEEfR3"
      },
      "source": [
        "'''\n",
        "hit two integer amounts using the replication constraints\n",
        "Mach and facula\n",
        "faculas make mach\n",
        "mach make facula\n",
        "\n",
        "3 and 2 makes 3 and 5 or 5 and 2\n",
        "so they replicate their current amount onto each other, but you can only do one a cycle\n",
        "so 1 and 1 can become 2 and 1 or 1 and 2 and so on\n",
        "\n",
        "have to hit exactly\n",
        "start with 1 and 1\n",
        "\n",
        "\n",
        "think this can be done recursively\n",
        "if we ever need to add and it is more we've broken it\n",
        "\n",
        "do it backwards\n",
        "try breaking down 1 of the numbers into 1 and go from there\n",
        "so essentially minus the larger by the smaller\n",
        "\n",
        "\n",
        "maybe some way to figure out the calculation without actually doing it?\n",
        "\n",
        "'''"
      ],
      "execution_count": null,
      "outputs": []
    },
    {
      "cell_type": "code",
      "metadata": {
        "id": "X-BxJYOfLoEK"
      },
      "source": [
        "def solution(x, y):\n",
        "    #convert to integer for math and setup a counter\n",
        "    m = int(x)\n",
        "    f = int(y)\n",
        "    count = 0\n",
        "    \n",
        "    #We're solving the problem backwards, going from what we want m and f to be and working backwards\n",
        "    #While m and f are greater than 0\n",
        "    while m > 0 and f > 0:\n",
        "        #check if we already got to the solution\n",
        "        if m == 1 and f == 1:\n",
        "            return str(count)\n",
        "        #check if they're equal to eachother but not 1, in that case we can't solve\n",
        "        elif f == m:\n",
        "            return 'Impossible'\n",
        "        #for this next bit, we take the bigger and minus the smaller from it, and this is the main loop\n",
        "        elif m > f:\n",
        "            temp = m // f\n",
        "            #We see how many times we can minus the smaller one from the bigger one, and do them all at once\n",
        "            if m % f == 0:\n",
        "                temp -= 1\n",
        "            m = m - f * temp\n",
        "            count += temp\n",
        "\n",
        "        else:\n",
        "            temp = f // m\n",
        "            if f % m == 0:\n",
        "                temp -= 1\n",
        "            f = f - m * temp\n",
        "            count += temp\n",
        "    #if we end up with an m or f less than 1, its impossible\n",
        "    return 'Impossible'\n"
      ],
      "execution_count": null,
      "outputs": []
    },
    {
      "cell_type": "code",
      "metadata": {
        "id": "6NUUAmR2oBYh"
      },
      "source": [
        "class TreeNode:\n",
        "    def __init__(self, x_value, y_value):\n",
        "        self.x_value = x_value\n",
        "        self.y_value = y_value\n",
        "        self.left = None\n",
        "        self.right = None\n",
        "\n",
        "def makeTree(x, y, x_temp, y_temp, head):\n",
        "\n",
        "    while x_temp < x and y_temp < y:\n",
        "\n",
        "        head.left = TreeNode(x_temp + y_temp, y_temp)\n",
        "\n",
        "        head.right = TreeNode(x_temp, x_temp + y_temp)\n",
        "\n",
        "\n",
        "    return \n",
        "\n",
        "\n",
        "\n",
        "\n",
        "def solution(x, y):\n",
        "    x = int(x)\n",
        "    y = int(y)\n",
        "    root = TreeNode(1, 1)\n",
        "\n",
        "    makeTree(x, y, 1, 1, root)\n",
        "    print(root.left.left)"
      ],
      "execution_count": null,
      "outputs": []
    },
    {
      "cell_type": "code",
      "metadata": {
        "colab": {
          "base_uri": "https://localhost:8080/",
          "height": 340
        },
        "id": "F_WRtOePKVsz",
        "outputId": "646607cd-3d54-4076-af86-09a5a8be76e7"
      },
      "source": [
        "solution('10000000000000000000000000', '555555555555555555')"
      ],
      "execution_count": null,
      "outputs": [
        {
          "output_type": "error",
          "ename": "RecursionError",
          "evalue": "ignored",
          "traceback": [
            "\u001b[0;31m---------------------------------------------------------------------------\u001b[0m",
            "\u001b[0;31mRecursionError\u001b[0m                            Traceback (most recent call last)",
            "\u001b[0;32m<ipython-input-86-60d666357237>\u001b[0m in \u001b[0;36m<module>\u001b[0;34m()\u001b[0m\n\u001b[0;32m----> 1\u001b[0;31m \u001b[0msolution\u001b[0m\u001b[0;34m(\u001b[0m\u001b[0;34m'10000000000000000000000000'\u001b[0m\u001b[0;34m,\u001b[0m \u001b[0;34m'555555555555555555'\u001b[0m\u001b[0;34m)\u001b[0m\u001b[0;34m\u001b[0m\u001b[0;34m\u001b[0m\u001b[0m\n\u001b[0m",
            "\u001b[0;32m<ipython-input-84-21e5a140b288>\u001b[0m in \u001b[0;36msolution\u001b[0;34m(x, y)\u001b[0m\n\u001b[1;32m     28\u001b[0m     \u001b[0mroot\u001b[0m \u001b[0;34m=\u001b[0m \u001b[0mTreeNode\u001b[0m\u001b[0;34m(\u001b[0m\u001b[0;36m1\u001b[0m\u001b[0;34m,\u001b[0m \u001b[0;36m1\u001b[0m\u001b[0;34m)\u001b[0m\u001b[0;34m\u001b[0m\u001b[0;34m\u001b[0m\u001b[0m\n\u001b[1;32m     29\u001b[0m \u001b[0;34m\u001b[0m\u001b[0m\n\u001b[0;32m---> 30\u001b[0;31m     \u001b[0mmakeTree\u001b[0m\u001b[0;34m(\u001b[0m\u001b[0mx\u001b[0m\u001b[0;34m,\u001b[0m \u001b[0my\u001b[0m\u001b[0;34m,\u001b[0m \u001b[0;36m1\u001b[0m\u001b[0;34m,\u001b[0m \u001b[0;36m1\u001b[0m\u001b[0;34m,\u001b[0m \u001b[0mroot\u001b[0m\u001b[0;34m)\u001b[0m\u001b[0;34m\u001b[0m\u001b[0;34m\u001b[0m\u001b[0m\n\u001b[0m\u001b[1;32m     31\u001b[0m     \u001b[0mprint\u001b[0m\u001b[0;34m(\u001b[0m\u001b[0mroot\u001b[0m\u001b[0;34m.\u001b[0m\u001b[0mleft\u001b[0m\u001b[0;34m.\u001b[0m\u001b[0mleft\u001b[0m\u001b[0;34m.\u001b[0m\u001b[0mx_value\u001b[0m\u001b[0;34m,\u001b[0m \u001b[0mroot\u001b[0m\u001b[0;34m.\u001b[0m\u001b[0mleft\u001b[0m\u001b[0;34m.\u001b[0m\u001b[0mleft\u001b[0m\u001b[0;34m.\u001b[0m\u001b[0my_value\u001b[0m\u001b[0;34m)\u001b[0m\u001b[0;34m\u001b[0m\u001b[0;34m\u001b[0m\u001b[0m\n",
            "\u001b[0;32m<ipython-input-84-21e5a140b288>\u001b[0m in \u001b[0;36mmakeTree\u001b[0;34m(x, y, x_temp, y_temp, head)\u001b[0m\n\u001b[1;32m     13\u001b[0m     \u001b[0;32melse\u001b[0m\u001b[0;34m:\u001b[0m\u001b[0;34m\u001b[0m\u001b[0;34m\u001b[0m\u001b[0m\n\u001b[1;32m     14\u001b[0m         \u001b[0mhead\u001b[0m\u001b[0;34m.\u001b[0m\u001b[0mleft\u001b[0m \u001b[0;34m=\u001b[0m \u001b[0mTreeNode\u001b[0m\u001b[0;34m(\u001b[0m\u001b[0mx_temp\u001b[0m \u001b[0;34m+\u001b[0m \u001b[0my_temp\u001b[0m\u001b[0;34m,\u001b[0m \u001b[0my_temp\u001b[0m\u001b[0;34m)\u001b[0m\u001b[0;34m\u001b[0m\u001b[0;34m\u001b[0m\u001b[0m\n\u001b[0;32m---> 15\u001b[0;31m         \u001b[0mmakeTree\u001b[0m\u001b[0;34m(\u001b[0m\u001b[0mx\u001b[0m\u001b[0;34m,\u001b[0m \u001b[0my\u001b[0m\u001b[0;34m,\u001b[0m \u001b[0mx_temp\u001b[0m \u001b[0;34m+\u001b[0m \u001b[0my_temp\u001b[0m\u001b[0;34m,\u001b[0m \u001b[0my_temp\u001b[0m\u001b[0;34m,\u001b[0m \u001b[0mhead\u001b[0m\u001b[0;34m.\u001b[0m\u001b[0mleft\u001b[0m\u001b[0;34m)\u001b[0m\u001b[0;34m\u001b[0m\u001b[0;34m\u001b[0m\u001b[0m\n\u001b[0m\u001b[1;32m     16\u001b[0m \u001b[0;34m\u001b[0m\u001b[0m\n\u001b[1;32m     17\u001b[0m         \u001b[0mhead\u001b[0m\u001b[0;34m.\u001b[0m\u001b[0mright\u001b[0m \u001b[0;34m=\u001b[0m \u001b[0mTreeNode\u001b[0m\u001b[0;34m(\u001b[0m\u001b[0mx_temp\u001b[0m\u001b[0;34m,\u001b[0m \u001b[0mx_temp\u001b[0m \u001b[0;34m+\u001b[0m \u001b[0my_temp\u001b[0m\u001b[0;34m)\u001b[0m\u001b[0;34m\u001b[0m\u001b[0;34m\u001b[0m\u001b[0m\n",
            "... last 1 frames repeated, from the frame below ...\n",
            "\u001b[0;32m<ipython-input-84-21e5a140b288>\u001b[0m in \u001b[0;36mmakeTree\u001b[0;34m(x, y, x_temp, y_temp, head)\u001b[0m\n\u001b[1;32m     13\u001b[0m     \u001b[0;32melse\u001b[0m\u001b[0;34m:\u001b[0m\u001b[0;34m\u001b[0m\u001b[0;34m\u001b[0m\u001b[0m\n\u001b[1;32m     14\u001b[0m         \u001b[0mhead\u001b[0m\u001b[0;34m.\u001b[0m\u001b[0mleft\u001b[0m \u001b[0;34m=\u001b[0m \u001b[0mTreeNode\u001b[0m\u001b[0;34m(\u001b[0m\u001b[0mx_temp\u001b[0m \u001b[0;34m+\u001b[0m \u001b[0my_temp\u001b[0m\u001b[0;34m,\u001b[0m \u001b[0my_temp\u001b[0m\u001b[0;34m)\u001b[0m\u001b[0;34m\u001b[0m\u001b[0;34m\u001b[0m\u001b[0m\n\u001b[0;32m---> 15\u001b[0;31m         \u001b[0mmakeTree\u001b[0m\u001b[0;34m(\u001b[0m\u001b[0mx\u001b[0m\u001b[0;34m,\u001b[0m \u001b[0my\u001b[0m\u001b[0;34m,\u001b[0m \u001b[0mx_temp\u001b[0m \u001b[0;34m+\u001b[0m \u001b[0my_temp\u001b[0m\u001b[0;34m,\u001b[0m \u001b[0my_temp\u001b[0m\u001b[0;34m,\u001b[0m \u001b[0mhead\u001b[0m\u001b[0;34m.\u001b[0m\u001b[0mleft\u001b[0m\u001b[0;34m)\u001b[0m\u001b[0;34m\u001b[0m\u001b[0;34m\u001b[0m\u001b[0m\n\u001b[0m\u001b[1;32m     16\u001b[0m \u001b[0;34m\u001b[0m\u001b[0m\n\u001b[1;32m     17\u001b[0m         \u001b[0mhead\u001b[0m\u001b[0;34m.\u001b[0m\u001b[0mright\u001b[0m \u001b[0;34m=\u001b[0m \u001b[0mTreeNode\u001b[0m\u001b[0;34m(\u001b[0m\u001b[0mx_temp\u001b[0m\u001b[0;34m,\u001b[0m \u001b[0mx_temp\u001b[0m \u001b[0;34m+\u001b[0m \u001b[0my_temp\u001b[0m\u001b[0;34m)\u001b[0m\u001b[0;34m\u001b[0m\u001b[0;34m\u001b[0m\u001b[0m\n",
            "\u001b[0;31mRecursionError\u001b[0m: maximum recursion depth exceeded"
          ]
        }
      ]
    }
  ]
}